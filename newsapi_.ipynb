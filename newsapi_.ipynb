{
  "nbformat": 4,
  "nbformat_minor": 0,
  "metadata": {
    "kernelspec": {
      "name": "python3",
      "display_name": "Python 3"
    },
    "language_info": {
      "codemirror_mode": {
        "name": "ipython",
        "version": 3
      },
      "file_extension": ".py",
      "mimetype": "text/x-python",
      "name": "python",
      "nbconvert_exporter": "python",
      "pygments_lexer": "ipython3",
      "version": "3.7.4"
    },
    "colab": {
      "name": "newsapi .ipynb",
      "provenance": [],
      "collapsed_sections": [],
      "include_colab_link": true
    },
    "accelerator": "GPU"
  },
  "cells": [
    {
      "cell_type": "markdown",
      "metadata": {
        "id": "view-in-github",
        "colab_type": "text"
      },
      "source": [
        "<a href=\"https://colab.research.google.com/github/nonoumasy/newsapi/blob/master/newsapi_.ipynb\" target=\"_parent\"><img src=\"https://colab.research.google.com/assets/colab-badge.svg\" alt=\"Open In Colab\"/></a>"
      ]
    },
    {
      "cell_type": "code",
      "metadata": {
        "id": "v63dHfAciIdR",
        "colab_type": "code",
        "colab": {}
      },
      "source": [
        "import requests \n",
        "from bs4 import BeautifulSoup\n",
        "import pprint\n",
        "import pandas as pd\n",
        "import numpy as np "
      ],
      "execution_count": 0,
      "outputs": []
    },
    {
      "cell_type": "code",
      "metadata": {
        "id": "vlIKNMESiIdi",
        "colab_type": "code",
        "colab": {}
      },
      "source": [
        ""
      ],
      "execution_count": 0,
      "outputs": []
    },
    {
      "cell_type": "code",
      "metadata": {
        "id": "V3PSe_HliId1",
        "colab_type": "code",
        "colab": {}
      },
      "source": [
        "tokyo_param = {\n",
        "    'q': 'tokyo',\n",
        "    'pageSize': 100,\n",
        "    'apiKey': api_key,\n",
        "    'language': 'en',\n",
        "    'from' : '2020-01-01'\n",
        "    \n",
        "}"
      ],
      "execution_count": 0,
      "outputs": []
    },
    {
      "cell_type": "code",
      "metadata": {
        "id": "QzPmx9X0k4ES",
        "colab_type": "code",
        "colab": {}
      },
      "source": [
        "response = requests.get(url, params = tokyo_param)\n",
        "response_json = response.json()\n",
        "\n",
        "#Seeing the keys we need to access the data\n",
        "response_json.keys()"
      ],
      "execution_count": 0,
      "outputs": []
    },
    {
      "cell_type": "code",
      "metadata": {
        "id": "tGCIao42iIe5",
        "colab_type": "code",
        "colab": {}
      },
      "source": [
        "#This function extracts the relevant information from the list of lists\n",
        "\n",
        "def get_articles(file): \n",
        "    article_results = []\n",
        "    \n",
        "    for i in range(len(file)):\n",
        "        article_dict = {}\n",
        "        article_dict['title'] = file[i]['title']\n",
        "        article_dict['author'] = file[i]['author']\n",
        "        article_dict['source'] = file[i]['source']\n",
        "        article_dict['description'] = file[i]['description']\n",
        "        article_dict['content'] = file[i]['content']\n",
        "        article_dict['pub_date'] = file[i]['publishedAt']\n",
        "        article_dict['url'] = file[i][\"url\"]\n",
        "        article_dict['photo_url'] = file[i]['urlToImage']\n",
        "        \n",
        "        \n",
        "        article_results.append(article_dict)\n",
        "    return article_results"
      ],
      "execution_count": 0,
      "outputs": []
    },
    {
      "cell_type": "code",
      "metadata": {
        "id": "oKgBSUvxjHWS",
        "colab_type": "code",
        "colab": {}
      },
      "source": [
        "tokyo_articles = response_json['articles']\n",
        "tokyo = pd.DataFrame(get_articles(tokyo_articles))\n",
        "\n",
        "# This function extracts the media source from the dictionared column \"source\".\n",
        "\n",
        "def source_getter(df):\n",
        "    \n",
        "    source = []\n",
        "    for source_dict in df['source']:\n",
        "        source.append(source_dict['name'])\n",
        "   \n",
        "    df['source'] = source\n",
        "\n",
        "#get source name\n",
        "source_getter(tokyo)\n",
        "\n",
        "#This lambda function changed the publication date into something more readable\n",
        "tokyo['pub_date'] = pd.to_datetime(tokyo['pub_date']).apply(lambda x: x.date())"
      ],
      "execution_count": 0,
      "outputs": []
    },
    {
      "cell_type": "code",
      "metadata": {
        "id": "Y08ohJNIlHzM",
        "colab_type": "code",
        "colab": {
          "base_uri": "https://localhost:8080/",
          "height": 1000
        },
        "outputId": "1b0ef5d4-3bde-42c9-eaa9-86a9eb52a304"
      },
      "source": [
        "tokyo"
      ],
      "execution_count": 35,
      "outputs": [
        {
          "output_type": "execute_result",
          "data": {
            "text/html": [
              "<div>\n",
              "<style scoped>\n",
              "    .dataframe tbody tr th:only-of-type {\n",
              "        vertical-align: middle;\n",
              "    }\n",
              "\n",
              "    .dataframe tbody tr th {\n",
              "        vertical-align: top;\n",
              "    }\n",
              "\n",
              "    .dataframe thead th {\n",
              "        text-align: right;\n",
              "    }\n",
              "</style>\n",
              "<table border=\"1\" class=\"dataframe\">\n",
              "  <thead>\n",
              "    <tr style=\"text-align: right;\">\n",
              "      <th></th>\n",
              "      <th>title</th>\n",
              "      <th>author</th>\n",
              "      <th>source</th>\n",
              "      <th>description</th>\n",
              "      <th>content</th>\n",
              "      <th>pub_date</th>\n",
              "      <th>url</th>\n",
              "      <th>photo_url</th>\n",
              "    </tr>\n",
              "  </thead>\n",
              "  <tbody>\n",
              "    <tr>\n",
              "      <th>0</th>\n",
              "      <td>Tokyo 2020 athletes will sleep on beds made fr...</td>\n",
              "      <td>Shannon Connellan</td>\n",
              "      <td>{'id': 'mashable', 'name': 'Mashable'}</td>\n",
              "      <td>Athletes competing at the Tokyo 2020 Olympic G...</td>\n",
              "      <td>Athletes competing at the Tokyo 2020 Olympic G...</td>\n",
              "      <td>2020-01-09</td>\n",
              "      <td>https://mashable.com/article/tokyo-2020-olympi...</td>\n",
              "      <td>https://mondrian.mashable.com/2020%252F01%252F...</td>\n",
              "    </tr>\n",
              "    <tr>\n",
              "      <th>1</th>\n",
              "      <td>NBC partners with Snapchat on four daily shows...</td>\n",
              "      <td>Sarah Perez</td>\n",
              "      <td>{'id': 'techcrunch', 'name': 'TechCrunch'}</td>\n",
              "      <td>Snapchat and NBC Olympics are again teaming up...</td>\n",
              "      <td>Snapchat and NBC Olympics are again teaming up...</td>\n",
              "      <td>2020-01-23</td>\n",
              "      <td>http://techcrunch.com/2020/01/23/nbc-partners-...</td>\n",
              "      <td>https://techcrunch.com/wp-content/uploads/2020...</td>\n",
              "    </tr>\n",
              "    <tr>\n",
              "      <th>2</th>\n",
              "      <td>What to Do If You Lose Your Credit or Debit Ca...</td>\n",
              "      <td>Lisa Rowan on Two Cents, shared by Lisa Rowan ...</td>\n",
              "      <td>{'id': None, 'name': 'Lifehacker.com'}</td>\n",
              "      <td>Imagine, if you will, Lifehacker staff writer ...</td>\n",
              "      <td>Imagine, if you will, Lifehacker staff writer ...</td>\n",
              "      <td>2020-01-24</td>\n",
              "      <td>https://twocents.lifehacker.com/what-to-do-if-...</td>\n",
              "      <td>https://i.kinja-img.com/gawker-media/image/upl...</td>\n",
              "    </tr>\n",
              "    <tr>\n",
              "      <th>3</th>\n",
              "      <td>TRI-AD’s James Kuffner and Max Bajracharya are...</td>\n",
              "      <td>Brian Heater</td>\n",
              "      <td>{'id': 'techcrunch', 'name': 'TechCrunch'}</td>\n",
              "      <td>With the Tokyo Summer Olympics rapidly approac...</td>\n",
              "      <td>With the Tokyo Summer Olympics rapidly approac...</td>\n",
              "      <td>2020-01-16</td>\n",
              "      <td>http://techcrunch.com/2020/01/16/tri-ads-james...</td>\n",
              "      <td>https://techcrunch.com/wp-content/uploads/2020...</td>\n",
              "    </tr>\n",
              "    <tr>\n",
              "      <th>4</th>\n",
              "      <td>Olympians will sleep on these unique beds</td>\n",
              "      <td>None</td>\n",
              "      <td>{'id': 'cnn', 'name': 'CNN'}</td>\n",
              "      <td>The athletes competing in the 2020 Olympic Sum...</td>\n",
              "      <td>Chat with us in Facebook Messenger. Find out w...</td>\n",
              "      <td>2020-01-10</td>\n",
              "      <td>https://www.cnn.com/videos/world/2020/01/10/ol...</td>\n",
              "      <td>https://cdn.cnn.com/cnnnext/dam/assets/2001100...</td>\n",
              "    </tr>\n",
              "    <tr>\n",
              "      <th>...</th>\n",
              "      <td>...</td>\n",
              "      <td>...</td>\n",
              "      <td>...</td>\n",
              "      <td>...</td>\n",
              "      <td>...</td>\n",
              "      <td>...</td>\n",
              "      <td>...</td>\n",
              "      <td>...</td>\n",
              "    </tr>\n",
              "    <tr>\n",
              "      <th>95</th>\n",
              "      <td>Let's See How Construction On Nintendo's Theme...</td>\n",
              "      <td>Luke Plunkett</td>\n",
              "      <td>{'id': None, 'name': 'Kotaku.com'}</td>\n",
              "      <td>Super Nintendo World is due to open in around ...</td>\n",
              "      <td>Super Nintendo World is due to open in around ...</td>\n",
              "      <td>2020-01-17</td>\n",
              "      <td>https://kotaku.com/lets-see-how-construction-o...</td>\n",
              "      <td>https://i.kinja-img.com/gawker-media/image/upl...</td>\n",
              "    </tr>\n",
              "    <tr>\n",
              "      <th>96</th>\n",
              "      <td>Former Nissan Chairman Carlos Ghosn escaped Ja...</td>\n",
              "      <td>rmahbubani@businessinsider.com (Rhea Mahbubani...</td>\n",
              "      <td>{'id': 'business-insider', 'name': 'Business I...</td>\n",
              "      <td>REUTERS/Mohamed Azakir Ex-Nissan executive tur...</td>\n",
              "      <td>Former Nissan Chairman Carlos Ghosn gave Japan...</td>\n",
              "      <td>2020-01-30</td>\n",
              "      <td>https://www.businessinsider.com/ex-green-beret...</td>\n",
              "      <td>https://i.insider.com/5e331ece62fa8167a80d75e6...</td>\n",
              "    </tr>\n",
              "    <tr>\n",
              "      <th>97</th>\n",
              "      <td>Carlos Ghosn slipped out of Japan undetected b...</td>\n",
              "      <td>feedback@businessinsider.com (Bill Bostock), B...</td>\n",
              "      <td>{'id': 'business-insider', 'name': 'Business I...</td>\n",
              "      <td>Getty/Kyodo News Stills/Getty Carlos Ghosn man...</td>\n",
              "      <td>Carlos Ghosn managed to sneak out of Japan und...</td>\n",
              "      <td>2020-01-06</td>\n",
              "      <td>https://www.businessinsider.com/carlos-ghosn-e...</td>\n",
              "      <td>https://image.businessinsider.com/5e13006c855c...</td>\n",
              "    </tr>\n",
              "    <tr>\n",
              "      <th>98</th>\n",
              "      <td>Vic Gundotra in Tokyo</td>\n",
              "      <td>Stu Davidson</td>\n",
              "      <td>{'id': None, 'name': 'Stuckincustoms.com'}</td>\n",
              "      <td>Cooking with Paris My friend Pete sent me this...</td>\n",
              "      <td>Cooking with Paris\\r\\nMy friend Pete sent me t...</td>\n",
              "      <td>2020-01-29</td>\n",
              "      <td>https://stuckincustoms.com/2020/01/29/vic-gund...</td>\n",
              "      <td>https://i1.wp.com/stuckincustoms.smugmug.com/P...</td>\n",
              "    </tr>\n",
              "    <tr>\n",
              "      <th>99</th>\n",
              "      <td>GamesBeat Decides 137: Google Stadia is alread...</td>\n",
              "      <td>Jeff Grubb</td>\n",
              "      <td>{'id': None, 'name': 'Venturebeat.com'}</td>\n",
              "      <td>On this week’s episode of the GamesBeat Decide...</td>\n",
              "      <td>On this weeks episode of the GamesBeat Decides...</td>\n",
              "      <td>2020-01-30</td>\n",
              "      <td>https://venturebeat.com/2020/01/30/gamesbeat-d...</td>\n",
              "      <td>https://venturebeat.com/wp-content/uploads/202...</td>\n",
              "    </tr>\n",
              "  </tbody>\n",
              "</table>\n",
              "<p>100 rows × 8 columns</p>\n",
              "</div>"
            ],
            "text/plain": [
              "                                                title  ...                                          photo_url\n",
              "0   Tokyo 2020 athletes will sleep on beds made fr...  ...  https://mondrian.mashable.com/2020%252F01%252F...\n",
              "1   NBC partners with Snapchat on four daily shows...  ...  https://techcrunch.com/wp-content/uploads/2020...\n",
              "2   What to Do If You Lose Your Credit or Debit Ca...  ...  https://i.kinja-img.com/gawker-media/image/upl...\n",
              "3   TRI-AD’s James Kuffner and Max Bajracharya are...  ...  https://techcrunch.com/wp-content/uploads/2020...\n",
              "4           Olympians will sleep on these unique beds  ...  https://cdn.cnn.com/cnnnext/dam/assets/2001100...\n",
              "..                                                ...  ...                                                ...\n",
              "95  Let's See How Construction On Nintendo's Theme...  ...  https://i.kinja-img.com/gawker-media/image/upl...\n",
              "96  Former Nissan Chairman Carlos Ghosn escaped Ja...  ...  https://i.insider.com/5e331ece62fa8167a80d75e6...\n",
              "97  Carlos Ghosn slipped out of Japan undetected b...  ...  https://image.businessinsider.com/5e13006c855c...\n",
              "98                              Vic Gundotra in Tokyo  ...  https://i1.wp.com/stuckincustoms.smugmug.com/P...\n",
              "99  GamesBeat Decides 137: Google Stadia is alread...  ...  https://venturebeat.com/wp-content/uploads/202...\n",
              "\n",
              "[100 rows x 8 columns]"
            ]
          },
          "metadata": {
            "tags": []
          },
          "execution_count": 35
        }
      ]
    },
    {
      "cell_type": "code",
      "metadata": {
        "id": "0lRai-pOiIfO",
        "colab_type": "code",
        "colab": {}
      },
      "source": [
        "#save as csv\n",
        "tokyo.to_csv('tokyo.csv', index = False)"
      ],
      "execution_count": 0,
      "outputs": []
    },
    {
      "cell_type": "code",
      "metadata": {
        "id": "xkHmgr6piIfF",
        "colab_type": "code",
        "colab": {
          "base_uri": "https://localhost:8080/",
          "height": 34
        },
        "outputId": "db021829-5790-42f1-e8d4-721993a7fc0d"
      },
      "source": [
        "tokyo.shape"
      ],
      "execution_count": 34,
      "outputs": [
        {
          "output_type": "execute_result",
          "data": {
            "text/plain": [
              "(100, 8)"
            ]
          },
          "metadata": {
            "tags": []
          },
          "execution_count": 34
        }
      ]
    }
  ]
}